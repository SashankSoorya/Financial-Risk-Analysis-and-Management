{
  "nbformat": 4,
  "nbformat_minor": 0,
  "metadata": {
    "colab": {
      "provenance": []
    },
    "kernelspec": {
      "name": "python3",
      "display_name": "Python 3"
    },
    "language_info": {
      "name": "python"
    }
  },
  "cells": [
    {
      "cell_type": "code",
      "source": [
        "!pip install arch"
      ],
      "metadata": {
        "id": "cGkZgKBzZo1v"
      },
      "execution_count": null,
      "outputs": []
    },
    {
      "cell_type": "code",
      "source": [
        "!pip install --upgrade matplotlib statsmodels"
      ],
      "metadata": {
        "colab": {
          "base_uri": "https://localhost:8080/"
        },
        "id": "WH99o8jK8DIc",
        "outputId": "232ffe99-60e7-43bd-d671-1fdd0b0a4462"
      },
      "execution_count": null,
      "outputs": [
        {
          "output_type": "stream",
          "name": "stdout",
          "text": [
            "Requirement already satisfied: matplotlib in /usr/local/lib/python3.10/dist-packages (3.8.0)\n",
            "Collecting matplotlib\n",
            "  Downloading matplotlib-3.9.2-cp310-cp310-manylinux_2_17_x86_64.manylinux2014_x86_64.whl.metadata (11 kB)\n",
            "Requirement already satisfied: statsmodels in /usr/local/lib/python3.10/dist-packages (0.14.4)\n",
            "Requirement already satisfied: contourpy>=1.0.1 in /usr/local/lib/python3.10/dist-packages (from matplotlib) (1.3.0)\n",
            "Requirement already satisfied: cycler>=0.10 in /usr/local/lib/python3.10/dist-packages (from matplotlib) (0.12.1)\n",
            "Requirement already satisfied: fonttools>=4.22.0 in /usr/local/lib/python3.10/dist-packages (from matplotlib) (4.54.1)\n",
            "Requirement already satisfied: kiwisolver>=1.3.1 in /usr/local/lib/python3.10/dist-packages (from matplotlib) (1.4.7)\n",
            "Requirement already satisfied: numpy>=1.23 in /usr/local/lib/python3.10/dist-packages (from matplotlib) (1.26.4)\n",
            "Requirement already satisfied: packaging>=20.0 in /usr/local/lib/python3.10/dist-packages (from matplotlib) (24.1)\n",
            "Requirement already satisfied: pillow>=8 in /usr/local/lib/python3.10/dist-packages (from matplotlib) (10.4.0)\n",
            "Requirement already satisfied: pyparsing>=2.3.1 in /usr/local/lib/python3.10/dist-packages (from matplotlib) (3.2.0)\n",
            "Requirement already satisfied: python-dateutil>=2.7 in /usr/local/lib/python3.10/dist-packages (from matplotlib) (2.8.2)\n",
            "Requirement already satisfied: scipy!=1.9.2,>=1.8 in /usr/local/lib/python3.10/dist-packages (from statsmodels) (1.13.1)\n",
            "Requirement already satisfied: pandas!=2.1.0,>=1.4 in /usr/local/lib/python3.10/dist-packages (from statsmodels) (2.2.2)\n",
            "Requirement already satisfied: patsy>=0.5.6 in /usr/local/lib/python3.10/dist-packages (from statsmodels) (0.5.6)\n",
            "Requirement already satisfied: pytz>=2020.1 in /usr/local/lib/python3.10/dist-packages (from pandas!=2.1.0,>=1.4->statsmodels) (2024.2)\n",
            "Requirement already satisfied: tzdata>=2022.7 in /usr/local/lib/python3.10/dist-packages (from pandas!=2.1.0,>=1.4->statsmodels) (2024.2)\n",
            "Requirement already satisfied: six in /usr/local/lib/python3.10/dist-packages (from patsy>=0.5.6->statsmodels) (1.16.0)\n",
            "Downloading matplotlib-3.9.2-cp310-cp310-manylinux_2_17_x86_64.manylinux2014_x86_64.whl (8.3 MB)\n",
            "\u001b[2K   \u001b[90m━━━━━━━━━━━━━━━━━━━━━━━━━━━━━━━━━━━━━━━━\u001b[0m \u001b[32m8.3/8.3 MB\u001b[0m \u001b[31m46.1 MB/s\u001b[0m eta \u001b[36m0:00:00\u001b[0m\n",
            "\u001b[?25hInstalling collected packages: matplotlib\n",
            "  Attempting uninstall: matplotlib\n",
            "    Found existing installation: matplotlib 3.8.0\n",
            "    Uninstalling matplotlib-3.8.0:\n",
            "      Successfully uninstalled matplotlib-3.8.0\n",
            "Successfully installed matplotlib-3.9.2\n"
          ]
        }
      ]
    },
    {
      "cell_type": "code",
      "source": [
        "import pandas as pd\n",
        "import statsmodels.api as sm\n",
        "import numpy as np\n",
        "import matplotlib.pyplot as plt\n",
        "import seaborn as sns\n",
        "from statsmodels.graphics.tsaplots import plot_acf, plot_pacf\n",
        "from statsmodels.stats.diagnostic import acorr_ljungbox\n",
        "import yfinance as yf\n",
        "import warnings\n",
        "#from arch import arch_model\n",
        "from statsmodels.tsa.stattools import adfuller\n",
        "\n",
        "# Suppress warnings\n",
        "warnings.filterwarnings(\"ignore\")\n",
        "\n",
        "# Load the Excel file\n",
        "file_path = '/content/T-Bills_2024 (3).xlsx'\n",
        "\n",
        "# Load stock data from Yahoo Finance\n",
        "tickers = ['J&KBANK.NS', 'JAICORPLTD.NS', 'JAYNECOIND.NS', 'JCHAC.NS', '^NSEI']\n",
        "df = pd.DataFrame()\n",
        "\n",
        "start_date = '2020-04-01'\n",
        "end_date = '2024-09-30'\n",
        "\n",
        "# Download stock data\n",
        "for ticker in tickers:\n",
        "    tick = yf.Ticker(ticker)\n",
        "    stock_data = tick.history(start=start_date, end=end_date)['Close']\n",
        "    df[ticker] = stock_data\n",
        "df2 = df.copy()\n",
        "\n",
        "# Resample the stock data to daily, weekly, and monthly frequencies\n",
        "df_daily = df.resample('D').ffill().pct_change().dropna().reset_index()\n",
        "df_weekly = df.resample('W').ffill().pct_change().dropna().reset_index()\n",
        "df_monthly = df.resample('MS').ffill().pct_change().dropna().reset_index()\n",
        "\n",
        "# Convert comparison dates to timezone-aware datetime objects\n",
        "start_date_daily = pd.to_datetime('2020-04-02').tz_localize('Asia/Kolkata')\n",
        "start_date_weekly = pd.to_datetime('2020-04-04').tz_localize('Asia/Kolkata')\n",
        "start_date_monthly = pd.to_datetime('2020-03-01').tz_localize('Asia/Kolkata')\n",
        "\n",
        "# Adjust resampling start dates with timezone-aware comparison dates\n",
        "df_daily = df_daily[df_daily['Date'] >= start_date_daily]\n",
        "df_weekly = df_weekly[df_weekly['Date'] >= start_date_weekly]\n",
        "df_monthly = df_monthly[df_monthly['Date'] >= start_date_monthly]\n",
        "\n",
        "# Load the risk-free rate data\n",
        "daily_rf = pd.read_excel(file_path, sheet_name='Daily')\n",
        "weekly_rf = pd.read_excel(file_path, sheet_name='Weekly')\n",
        "monthly_rf = pd.read_excel(file_path, sheet_name='Monthly')\n",
        "\n",
        "# Convert 'Date' to datetime for the risk-free rate data\n",
        "daily_rf['Date'] = pd.to_datetime(daily_rf['Date']).dt.tz_localize('Asia/Kolkata')\n",
        "weekly_rf['Date'] = pd.to_datetime(weekly_rf['Date']).dt.tz_localize('Asia/Kolkata')\n",
        "monthly_rf['Date'] = pd.to_datetime(monthly_rf['Date']).dt.tz_localize('Asia/Kolkata')\n",
        "\n",
        "# Merge the risk-free rates (Daily, Weekly, Monthly) with stock data\n",
        "df_daily = pd.merge(df_daily, daily_rf, on='Date', how='left')\n",
        "df_weekly = pd.merge(df_weekly, weekly_rf, on='Date', how='left')\n",
        "df_monthly = pd.merge(df_monthly, monthly_rf, on='Date', how='left')\n",
        "\n",
        "# Add columns for daily, weekly, and monthly yield\n",
        "df_daily['Daily Yield'] = df_daily['Daily Yield %']\n",
        "df_weekly['Weekly Yield'] = df_weekly['Weekly Yield %']\n",
        "df_monthly['Monthly Yield'] = df_monthly['Monthly Yield %']\n"
      ],
      "metadata": {
        "id": "EJKkrWuGrTat"
      },
      "execution_count": null,
      "outputs": []
    }
  ]
}